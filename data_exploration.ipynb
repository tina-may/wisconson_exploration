{
 "cells": [
  {
   "cell_type": "code",
   "id": "initial_id",
   "metadata": {
    "collapsed": true,
    "jupyter": {
     "is_executing": true
    }
   },
   "source": [
    "\n",
    "\n",
    "import pandas as pd\n",
    "import re\n",
    "\n",
    "#combine csvs\n",
    "current_calls = pd.read_csv(\"data/callcenterdatacurrent.csv\")\n",
    "historical_calls = pd.read_csv(\"data/callcenterdatahistorical.csv\")\n",
    "calls = pd.concat([current_calls, historical_calls])\n",
    "\n",
    "\n",
    "#classes: animals/roadkill, sewage, forestry, roads, info, garbage/sanitation, buildings\n",
    "def title_to_annotation(title):\n",
    "    title = title.lower()\n",
    "    if \"info only\" in title:\n",
    "        return \"info\"\n",
    "    elif re.findall(r\"\\b(trees?|brush|forestry|weeds|grass|branch(?:es)?|leaf)\\b\", title):\n",
    "        return \"forestry\"\n",
    "    elif re.findall(r\"\\b(drains?|sewage|backwater|flood(?:ing|s)?|water|sewers?|plumbing)\\b\", title):\n",
    "        return \"sewage\"\n",
    "    elif re.findall(r\"\\b(bins?|garbage|trash|bulky pickup|recycl(:e|ing)|sanitation|litter|collection)\\b\", title):\n",
    "        return \"garbage/sanitation\"\n",
    "    elif re.findall(\n",
    "            r\"\\b(buildings?|property|graffiti|debris|disrepair|abandoned|vacant|electric(?:ity|al)?|houses?|garages?|construction)\\b\",\n",
    "            title):\n",
    "        return \"buildings\"\n",
    "    elif re.findall(r\"\\b(roads?|streets?|lamps?|dark|potholes?|signs?|sidewalks?|zoning|lights?|barricade|guardrail)\\b\",\n",
    "                    title):\n",
    "        return \"roads\"\n",
    "    elif re.findall(r\"\\b(roadkill|animals?|dogs?|cats?|rats?|mice|roach(?:es)?|vermin)\\b\", title):\n",
    "        return \"animals/roadkill/pests\"\n",
    "    return \"other\"\n",
    "\n",
    "\n",
    "calls[\"CLASS\"] = calls[\"TITLE\"].apply(title_to_annotation)\n",
    "\n",
    "\n",
    "\n"
   ],
   "outputs": [],
   "execution_count": null
  },
  {
   "metadata": {},
   "cell_type": "code",
   "source": [
    "\n",
    "#get zipcode\n",
    "def get_zip_from_address(address):\n",
    "    address = str(address)\n",
    "\n",
    "    zipstr = re.findall(r\"(\\d{5}).(\\d{4})$\", address.strip())\n",
    "    if zipstr:\n",
    "        return zipstr[0][0]\n",
    "    return None\n",
    "\n",
    "\n",
    "calls[\"ZIP\"] = calls[\"OBJECTDESC\"].apply(get_zip_from_address)\n",
    "\n",
    "calls[\"ZIP\"]\n",
    "\n"
   ],
   "id": "5fc5e7cfea2af206",
   "outputs": [],
   "execution_count": null
  },
  {
   "metadata": {},
   "cell_type": "code",
   "source": [
    "trees_calls = calls.loc[calls['CLASS'] == \"forestry\"]\n",
    "\n",
    "zip_freq = trees_calls.groupby([\"ZIP\"]).size().reset_index(name=\"FREQUENCY\").sort_values(\"FREQUENCY\",\n",
    "                                                                                         ascending=False).head(10)\n",
    "# zip_freq.columns ['ZIP', 'FREQUENCY']\n",
    "zip_freq"
   ],
   "id": "c64dd306e1b082b2",
   "outputs": [],
   "execution_count": null
  },
  {
   "metadata": {},
   "cell_type": "code",
   "source": [
    "from matplotlib import pyplot as plt\n",
    "\n",
    "\n",
    "def plot_by_class(class_):\n",
    "    class_calls = calls.loc[calls['CLASS'] == class_]\n",
    "\n",
    "    zip_freq = class_calls.groupby([\"ZIP\"]).size().reset_index(name=\"FREQUENCY\").sort_values(\"FREQUENCY\",\n",
    "                                                                                             ascending=False).head(10)\n",
    "\n",
    "    x_axis = zip_freq[\"ZIP\"]\n",
    "    y_axis = zip_freq[\"FREQUENCY\"]\n",
    "    plt.bar(x_axis, y_axis, width=0.8, color='blue')\n",
    "    plt.xticks(rotation=90)\n",
    "    plt.xlabel(\"Zipcodes\")\n",
    "    plt.ylabel(\"Number of Calls\")\n",
    "    plt.title(f\"Number of {class_} Calls per Zipcode\")\n",
    "    fig = plt.figure()\n",
    "    fig.patch.set_facecolor('white')\n",
    "    plt.show(block=False)\n"
   ],
   "id": "4c827ef34f8c1a17",
   "outputs": [],
   "execution_count": null
  },
  {
   "metadata": {},
   "cell_type": "code",
   "source": [
    "for class_ in [\"forestry\", \"sewage\", \"garbage/sanitation\", \"buildings\", \"roads\", \"animals/roadkill/pests\"]:\n",
    "    plot_by_class(class_)\n",
    "    \n"
   ],
   "id": "47f8f82b64cc24ed",
   "outputs": [],
   "execution_count": null
  }
 ],
 "metadata": {
  "kernelspec": {
   "display_name": "Python 3",
   "language": "python",
   "name": "python3"
  },
  "language_info": {
   "codemirror_mode": {
    "name": "ipython",
    "version": 2
   },
   "file_extension": ".py",
   "mimetype": "text/x-python",
   "name": "python",
   "nbconvert_exporter": "python",
   "pygments_lexer": "ipython2",
   "version": "2.7.6"
  }
 },
 "nbformat": 4,
 "nbformat_minor": 5
}
